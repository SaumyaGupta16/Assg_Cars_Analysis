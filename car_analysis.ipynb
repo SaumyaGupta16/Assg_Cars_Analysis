{
 "cells": [
  {
   "cell_type": "markdown",
   "id": "997a1529",
   "metadata": {},
   "source": [
    "# Car Dataset Analysis\n",
    "This notebook answers questions about the Cars dataset using pandas."
   ]
  },
  {
   "cell_type": "code",
   "execution_count": null,
   "id": "cdc9660a",
   "metadata": {},
   "outputs": [],
   "source": [
    "import pandas as pd"
   ]
  },
  {
   "cell_type": "code",
   "execution_count": null,
   "id": "e1eb5037",
   "metadata": {},
   "outputs": [],
   "source": [
    "# Load the dataset\n",
    "df = pd.read_csv(\"Cars.csv\")\n",
    "df.head()"
   ]
  },
  {
   "cell_type": "markdown",
   "id": "4669797a",
   "metadata": {},
   "source": [
    "### Q8: Which car has the highest horsepower?"
   ]
  },
  {
   "cell_type": "code",
   "execution_count": null,
   "id": "56506745",
   "metadata": {},
   "outputs": [],
   "source": [
    "max_hp = df['horsepower'].max()\n",
    "max_hp_car = df[df['horsepower'] == max_hp]['car name'].values[0]\n",
    "print(\"Q8 Answer: Car with highest horsepower is:\", max_hp_car)"
   ]
  },
  {
   "cell_type": "markdown",
   "id": "2b5f7904",
   "metadata": {},
   "source": [
    "### Q9: How many cars have mpg >= 35?"
   ]
  },
  {
   "cell_type": "code",
   "execution_count": null,
   "id": "f889aecc",
   "metadata": {},
   "outputs": [],
   "source": [
    "mpg_35_or_more = df[df['mpg'] >= 35].shape[0]\n",
    "print(\"Q9 Answer: Number of cars with mpg >= 35 is:\", mpg_35_or_more)"
   ]
  },
  {
   "cell_type": "markdown",
   "id": "c57c4a19",
   "metadata": {},
   "source": [
    "### Q10: Most common origin of cars with horsepower > 100 and weight < 3000"
   ]
  },
  {
   "cell_type": "code",
   "execution_count": null,
   "id": "3c712a34",
   "metadata": {},
   "outputs": [],
   "source": [
    "filtered = df[(df['horsepower'] > 100) & (df['weight'] < 3000)]\n",
    "most_common_origin = filtered['origin'].value_counts().idxmax()\n",
    "print(\"Q10 Answer: Most common origin is:\", most_common_origin)"
   ]
  },
  {
   "cell_type": "markdown",
   "id": "ee21d1d6",
   "metadata": {},
   "source": [
    "### Q11: Mean acceleration of cars from Japan (rounded to 2 decimals)"
   ]
  },
  {
   "cell_type": "code",
   "execution_count": null,
   "id": "d4968271",
   "metadata": {},
   "outputs": [],
   "source": [
    "japan_cars = df[df['origin'] == 'japan']\n",
    "mean_acc_japan = round(japan_cars['acceleration'].mean(), 2)\n",
    "print(\"Q11 Answer: Mean acceleration of cars from Japan is:\", mean_acc_japan)"
   ]
  },
  {
   "cell_type": "markdown",
   "id": "ec3bccdd",
   "metadata": {},
   "source": [
    "### Q12: Which year had the highest average mpg?"
   ]
  },
  {
   "cell_type": "code",
   "execution_count": null,
   "id": "7d3cc5ed",
   "metadata": {},
   "outputs": [],
   "source": [
    "avg_mpg_by_year = df.groupby('model year')['mpg'].mean()\n",
    "highest_avg_mpg_year = avg_mpg_by_year.idxmax()\n",
    "print(\"Q12 Answer: Year with highest average mpg is:\", highest_avg_mpg_year)"
   ]
  }
 ],
 "metadata": {},
 "nbformat": 4,
 "nbformat_minor": 5
}
